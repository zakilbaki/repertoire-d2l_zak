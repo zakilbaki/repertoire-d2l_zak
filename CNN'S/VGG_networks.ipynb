{
 "cells": [
  {
   "cell_type": "code",
   "execution_count": 1,
   "id": "e95a7a0a-1a83-4d72-8acd-e3a42f47cd0f",
   "metadata": {},
   "outputs": [],
   "source": [
    "import torch\n",
    "from torch import nn\n",
    "from d2l import torch as d2l"
   ]
  },
  {
   "cell_type": "code",
   "execution_count": 2,
   "id": "bbaf5ef2-b50d-4ab7-8b9f-5e7758a3f8f8",
   "metadata": {},
   "outputs": [],
   "source": [
    " def vgg_block(num_convs, out_channels):\n",
    "    layers = []\n",
    "    for _ in range(num_convs):\n",
    "        layers.append(nn.LazyConv2d(out_channels, kernel_size=3, padding=1))\n",
    "        layers.append(nn.ReLU())\n",
    "    layers.append(nn.MaxPool2d(kernel_size=2,stride=2))\n",
    "    return nn.Sequential(*layers)"
   ]
  },
  {
   "cell_type": "code",
   "execution_count": 3,
   "id": "cd743744-8f9c-47b8-aa2c-eea4696d7216",
   "metadata": {},
   "outputs": [],
   "source": [
    "class VGG(d2l.Classifier):\n",
    "    def __init__(self, arch, lr=0.1, num_classes=10):\n",
    "        super().__init__()\n",
    "        self.save_hyperparameters()\n",
    "        conv_blks = []\n",
    "        for (num_convs, out_channels) in arch:\n",
    "            conv_blks.append(vgg_block(num_convs, out_channels))\n",
    "        self.net = nn.Sequential(\n",
    "            *conv_blks, nn.Flatten(),\n",
    "            nn.LazyLinear(4096), nn.ReLU(), nn.Dropout(0.5),\n",
    "            nn.LazyLinear(4096), nn.ReLU(), nn.Dropout(0.5),\n",
    "            nn.LazyLinear(num_classes))\n",
    "        self.net.apply(d2l.init_cnn)"
   ]
  },
  {
   "cell_type": "code",
   "execution_count": null,
   "id": "e8663fdd-ee3d-4421-8238-b942214e5215",
   "metadata": {},
   "outputs": [],
   "source": [
    "VGG(arch=((1, 64), (1, 128), (2, 256), (2, 512), (2, 512))).layer_summary(\n",
    "    (1, 1, 224, 224))"
   ]
  },
  {
   "cell_type": "code",
   "execution_count": 4,
   "id": "6e018472-86f8-4541-b41a-d14e24836ff3",
   "metadata": {},
   "outputs": [
    {
     "ename": "KeyboardInterrupt",
     "evalue": "",
     "output_type": "error",
     "traceback": [
      "\u001b[31m---------------------------------------------------------------------------\u001b[39m",
      "\u001b[31mKeyboardInterrupt\u001b[39m                         Traceback (most recent call last)",
      "\u001b[36mCell\u001b[39m\u001b[36m \u001b[39m\u001b[32mIn[4]\u001b[39m\u001b[32m, line 5\u001b[39m\n\u001b[32m      3\u001b[39m data = d2l.FashionMNIST(batch_size=\u001b[32m128\u001b[39m, resize=(\u001b[32m224\u001b[39m, \u001b[32m224\u001b[39m))\n\u001b[32m      4\u001b[39m model.apply_init([\u001b[38;5;28mnext\u001b[39m(\u001b[38;5;28miter\u001b[39m(data.get_dataloader(\u001b[38;5;28;01mTrue\u001b[39;00m)))[\u001b[32m0\u001b[39m]], d2l.init_cnn)\n\u001b[32m----> \u001b[39m\u001b[32m5\u001b[39m \u001b[43mtrainer\u001b[49m\u001b[43m.\u001b[49m\u001b[43mfit\u001b[49m\u001b[43m(\u001b[49m\u001b[43mmodel\u001b[49m\u001b[43m,\u001b[49m\u001b[43m \u001b[49m\u001b[43mdata\u001b[49m\u001b[43m)\u001b[49m\n",
      "\u001b[36mFile \u001b[39m\u001b[32m~\\miniconda3\\envs\\d2l\\Lib\\site-packages\\d2l\\torch.py:285\u001b[39m, in \u001b[36mTrainer.fit\u001b[39m\u001b[34m(self, model, data)\u001b[39m\n\u001b[32m    283\u001b[39m \u001b[38;5;28mself\u001b[39m.val_batch_idx = \u001b[32m0\u001b[39m\n\u001b[32m    284\u001b[39m \u001b[38;5;28;01mfor\u001b[39;00m \u001b[38;5;28mself\u001b[39m.epoch \u001b[38;5;129;01min\u001b[39;00m \u001b[38;5;28mrange\u001b[39m(\u001b[38;5;28mself\u001b[39m.max_epochs):\n\u001b[32m--> \u001b[39m\u001b[32m285\u001b[39m     \u001b[38;5;28;43mself\u001b[39;49m\u001b[43m.\u001b[49m\u001b[43mfit_epoch\u001b[49m\u001b[43m(\u001b[49m\u001b[43m)\u001b[49m\n",
      "\u001b[36mFile \u001b[39m\u001b[32m~\\miniconda3\\envs\\d2l\\Lib\\site-packages\\d2l\\torch.py:298\u001b[39m, in \u001b[36mTrainer.fit_epoch\u001b[39m\u001b[34m(self)\u001b[39m\n\u001b[32m    296\u001b[39m \u001b[38;5;28mself\u001b[39m.model.train()\n\u001b[32m    297\u001b[39m \u001b[38;5;28;01mfor\u001b[39;00m batch \u001b[38;5;129;01min\u001b[39;00m \u001b[38;5;28mself\u001b[39m.train_dataloader:\n\u001b[32m--> \u001b[39m\u001b[32m298\u001b[39m     loss = \u001b[38;5;28mself\u001b[39m.model.training_step(\u001b[38;5;28;43mself\u001b[39;49m\u001b[43m.\u001b[49m\u001b[43mprepare_batch\u001b[49m\u001b[43m(\u001b[49m\u001b[43mbatch\u001b[49m\u001b[43m)\u001b[49m)\n\u001b[32m    299\u001b[39m     \u001b[38;5;28mself\u001b[39m.optim.zero_grad()\n\u001b[32m    300\u001b[39m     \u001b[38;5;28;01mwith\u001b[39;00m torch.no_grad():\n",
      "\u001b[36mFile \u001b[39m\u001b[32m~\\miniconda3\\envs\\d2l\\Lib\\site-packages\\d2l\\torch.py:323\u001b[39m, in \u001b[36mTrainer.prepare_batch\u001b[39m\u001b[34m(self, batch)\u001b[39m\n\u001b[32m    321\u001b[39m \u001b[38;5;250m\u001b[39m\u001b[33;03m\"\"\"Defined in :numref:`sec_use_gpu`\"\"\"\u001b[39;00m\n\u001b[32m    322\u001b[39m \u001b[38;5;28;01mif\u001b[39;00m \u001b[38;5;28mself\u001b[39m.gpus:\n\u001b[32m--> \u001b[39m\u001b[32m323\u001b[39m     batch = \u001b[43m[\u001b[49m\u001b[43md2l\u001b[49m\u001b[43m.\u001b[49m\u001b[43mto\u001b[49m\u001b[43m(\u001b[49m\u001b[43ma\u001b[49m\u001b[43m,\u001b[49m\u001b[43m \u001b[49m\u001b[38;5;28;43mself\u001b[39;49m\u001b[43m.\u001b[49m\u001b[43mgpus\u001b[49m\u001b[43m[\u001b[49m\u001b[32;43m0\u001b[39;49m\u001b[43m]\u001b[49m\u001b[43m)\u001b[49m\u001b[43m \u001b[49m\u001b[38;5;28;43;01mfor\u001b[39;49;00m\u001b[43m \u001b[49m\u001b[43ma\u001b[49m\u001b[43m \u001b[49m\u001b[38;5;129;43;01min\u001b[39;49;00m\u001b[43m \u001b[49m\u001b[43mbatch\u001b[49m\u001b[43m]\u001b[49m\n\u001b[32m    324\u001b[39m \u001b[38;5;28;01mreturn\u001b[39;00m batch\n",
      "\u001b[36mFile \u001b[39m\u001b[32m~\\miniconda3\\envs\\d2l\\Lib\\site-packages\\d2l\\torch.py:323\u001b[39m, in \u001b[36m<listcomp>\u001b[39m\u001b[34m(.0)\u001b[39m\n\u001b[32m    321\u001b[39m \u001b[38;5;250m\u001b[39m\u001b[33;03m\"\"\"Defined in :numref:`sec_use_gpu`\"\"\"\u001b[39;00m\n\u001b[32m    322\u001b[39m \u001b[38;5;28;01mif\u001b[39;00m \u001b[38;5;28mself\u001b[39m.gpus:\n\u001b[32m--> \u001b[39m\u001b[32m323\u001b[39m     batch = [\u001b[43md2l\u001b[49m\u001b[43m.\u001b[49m\u001b[43mto\u001b[49m\u001b[43m(\u001b[49m\u001b[43ma\u001b[49m\u001b[43m,\u001b[49m\u001b[43m \u001b[49m\u001b[38;5;28;43mself\u001b[39;49m\u001b[43m.\u001b[49m\u001b[43mgpus\u001b[49m\u001b[43m[\u001b[49m\u001b[32;43m0\u001b[39;49m\u001b[43m]\u001b[49m\u001b[43m)\u001b[49m \u001b[38;5;28;01mfor\u001b[39;00m a \u001b[38;5;129;01min\u001b[39;00m batch]\n\u001b[32m    324\u001b[39m \u001b[38;5;28;01mreturn\u001b[39;00m batch\n",
      "\u001b[36mFile \u001b[39m\u001b[32m~\\miniconda3\\envs\\d2l\\Lib\\site-packages\\d2l\\torch.py:3506\u001b[39m, in \u001b[36m<lambda>\u001b[39m\u001b[34m(x, *args, **kwargs)\u001b[39m\n\u001b[32m   3504\u001b[39m size = \u001b[38;5;28;01mlambda\u001b[39;00m x, *args, **kwargs: x.numel(*args, **kwargs)\n\u001b[32m   3505\u001b[39m reshape = \u001b[38;5;28;01mlambda\u001b[39;00m x, *args, **kwargs: x.reshape(*args, **kwargs)\n\u001b[32m-> \u001b[39m\u001b[32m3506\u001b[39m to = \u001b[38;5;28;01mlambda\u001b[39;00m x, *args, **kwargs: \u001b[43mx\u001b[49m\u001b[43m.\u001b[49m\u001b[43mto\u001b[49m\u001b[43m(\u001b[49m\u001b[43m*\u001b[49m\u001b[43margs\u001b[49m\u001b[43m,\u001b[49m\u001b[43m \u001b[49m\u001b[43m*\u001b[49m\u001b[43m*\u001b[49m\u001b[43mkwargs\u001b[49m\u001b[43m)\u001b[49m\n\u001b[32m   3507\u001b[39m reduce_sum = \u001b[38;5;28;01mlambda\u001b[39;00m x, *args, **kwargs: x.sum(*args, **kwargs)\n\u001b[32m   3508\u001b[39m argmax = \u001b[38;5;28;01mlambda\u001b[39;00m x, *args, **kwargs: x.argmax(*args, **kwargs)\n",
      "\u001b[31mKeyboardInterrupt\u001b[39m: "
     ]
    }
   ],
   "source": [
    "model = VGG(arch=((1, 16), (1, 32), (2, 64), (2, 128), (2, 128)), lr=0.01)\n",
    "trainer = d2l.Trainer(max_epochs=10, num_gpus=1)\n",
    "data = d2l.FashionMNIST(batch_size=128, resize=(224, 224))\n",
    "model.apply_init([next(iter(data.get_dataloader(True)))[0]], d2l.init_cnn)\n",
    "trainer.fit(model, data)"
   ]
  },
  {
   "cell_type": "code",
   "execution_count": null,
   "id": "ae5d7837-0a23-45c9-b4d7-929601ebd905",
   "metadata": {},
   "outputs": [],
   "source": []
  }
 ],
 "metadata": {
  "kernelspec": {
   "display_name": "Python 3 (ipykernel)",
   "language": "python",
   "name": "python3"
  },
  "language_info": {
   "codemirror_mode": {
    "name": "ipython",
    "version": 3
   },
   "file_extension": ".py",
   "mimetype": "text/x-python",
   "name": "python",
   "nbconvert_exporter": "python",
   "pygments_lexer": "ipython3",
   "version": "3.11.13"
  }
 },
 "nbformat": 4,
 "nbformat_minor": 5
}
