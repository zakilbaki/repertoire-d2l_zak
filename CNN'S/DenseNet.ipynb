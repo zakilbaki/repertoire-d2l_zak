{
 "cells": [
  {
   "cell_type": "code",
   "execution_count": 1,
   "id": "15e133db-3c1f-49ba-8acf-740ef18cc0d6",
   "metadata": {},
   "outputs": [],
   "source": [
    "import torch \n",
    "from torch import nn\n",
    "from d2l import torch as d2l \n"
   ]
  },
  {
   "cell_type": "code",
   "execution_count": 2,
   "id": "dcddbf98-fe70-4501-8481-a18e84874b55",
   "metadata": {},
   "outputs": [],
   "source": [
    "def conv_block(num_channels):\n",
    "    return nn.Sequential(\n",
    "        nn.LazyBatchNorm2d(),nn.ReLU(),\n",
    "        nn.LazyConv2d(num_channels, kernel_size=3, padding=1))"
   ]
  },
  {
   "cell_type": "code",
   "execution_count": 5,
   "id": "b35fc675-4625-4051-bf2b-9d1e7f0536f5",
   "metadata": {},
   "outputs": [],
   "source": [
    "class DenseBlock(nn.Module):\n",
    "    def __init__(self, num_convs, num_channels):\n",
    "        super(DenseBlock, self).__init__()\n",
    "        layer=[]\n",
    "        for i in range (num_convs):\n",
    "            layer.append(conv_block(num_channels))\n",
    "        self.net=nn.Sequential(*layer)\n",
    "    def forward(self,X):\n",
    "        for blk in self.net:\n",
    "            Y=blk(X)\n",
    "            X=torch.cat((X,Y),dim=1)\n",
    "        return X\n"
   ]
  },
  {
   "cell_type": "markdown",
   "id": "5d0f5743-e001-4035-b92f-2229f58a91b9",
   "metadata": {},
   "source": [
    "blk= DenseBlock(2,10)\n",
    "X=torch.randn(4,3,8,8)\n",
    "Y=Blk(X)\n",
    "Y.shape"
   ]
  },
  {
   "cell_type": "code",
   "execution_count": 11,
   "id": "61978019-515b-4e07-a7ca-95134dbd8065",
   "metadata": {},
   "outputs": [],
   "source": [
    "def transition_block(num_channels):\n",
    "    return nn.Sequential(nn.LazyBatchNorm2d(), nn.ReLU(),nn.LazyConv2d(num_channels,kernel_size=1),nn.AvgPool2d(kernel_size=2,stride=2))\n",
    "                         "
   ]
  },
  {
   "cell_type": "code",
   "execution_count": 13,
   "id": "30f55df3-0425-4fbc-b134-32db6d655082",
   "metadata": {},
   "outputs": [
    {
     "data": {
      "text/plain": [
       "torch.Size([4, 10, 4, 4])"
      ]
     },
     "execution_count": 13,
     "metadata": {},
     "output_type": "execute_result"
    }
   ],
   "source": [
    "blk0=DenseBlock(2,10)\n",
    "X=torch.randn(4,3,8,8)\n",
    "Y=blk0(X)\n",
    "blk= transition_block(10)\n",
    "\n",
    "blk(Y).shape"
   ]
  },
  {
   "cell_type": "code",
   "execution_count": 15,
   "id": "e0d55656-d717-42b0-90af-988f3424190a",
   "metadata": {},
   "outputs": [],
   "source": [
    "class DenseNet(d2l.Classifier):\n",
    "    def b1(self):\n",
    "        return nn.Sequential(\n",
    "            nn.LazyConv2d(64,kernel_size=7,stride=2,padding=3),\n",
    "            nn.LazyBatchNorm2d(),nn.Relu(),nn.MaxPool2d(kernel_size=3,stride=2 , padding=1))"
   ]
  },
  {
   "cell_type": "code",
   "execution_count": null,
   "id": "b0e26747-eeaf-471f-999a-157f8966840e",
   "metadata": {},
   "outputs": [],
   "source": [
    "@d2l.add_to_class(DenseNet)\n",
    "def __init__(self, num_channels=64,growth_rate=32,arch=(4,4,4,4),lr=0.1,num_classes=10)"
   ]
  },
  {
   "cell_type": "code",
   "execution_count": 16,
   "id": "7178008a-efd5-40ce-a9c4-59fcde4de817",
   "metadata": {},
   "outputs": [],
   "source": [
    "@d2l.add_to_class(DenseNet)\n",
    "def __init__(self, num_channels=64, growth_rate=32, arch=(4, 4, 4, 4),\n",
    "             lr=0.1, num_classes=10):\n",
    "    super(DenseNet, self).__init__()\n",
    "    self.save_hyperparameters()\n",
    "    self.net = nn.Sequential(self.b1())\n",
    "    for i, num_convs in enumerate(arch):\n",
    "        self.net.add_module(f'dense_blk{i+1}', DenseBlock(num_convs,\n",
    "                                                          growth_rate))\n",
    "        # The number of output channels in the previous dense block\n",
    "        num_channels += num_convs * growth_rate\n",
    "        # A transition layer that halves the number of channels is added\n",
    "        # between the dense blocks\n",
    "        if i != len(arch) - 1:\n",
    "            num_channels //= 2\n",
    "            self.net.add_module(f'tran_blk{i+1}', transition_block(\n",
    "                num_channels))\n",
    "    self.net.add_module('last', nn.Sequential(\n",
    "        nn.LazyBatchNorm2d(), nn.ReLU(),\n",
    "        nn.AdaptiveAvgPool2d((1, 1)), nn.Flatten(),\n",
    "        nn.LazyLinear(num_classes)))\n",
    "    self.net.apply(d2l.init_cnn)"
   ]
  },
  {
   "cell_type": "code",
   "execution_count": null,
   "id": "924e9f0a-a3ef-4a0c-bde0-c14ec7d52557",
   "metadata": {},
   "outputs": [],
   "source": [
    "model = DenseNet(lr=0.01)\n",
    "trainer = d2l.Trainer(max_epochs=10, num_gpus=1)\n",
    "data = d2l.FashionMNIST(batch_size=128, resize=(96, 96))\n",
    "trainer.fit(model, data)"
   ]
  }
 ],
 "metadata": {
  "kernelspec": {
   "display_name": "Python 3 (ipykernel)",
   "language": "python",
   "name": "python3"
  },
  "language_info": {
   "codemirror_mode": {
    "name": "ipython",
    "version": 3
   },
   "file_extension": ".py",
   "mimetype": "text/x-python",
   "name": "python",
   "nbconvert_exporter": "python",
   "pygments_lexer": "ipython3",
   "version": "3.11.13"
  }
 },
 "nbformat": 4,
 "nbformat_minor": 5
}
